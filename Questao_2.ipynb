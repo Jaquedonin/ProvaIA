{
 "cells": [
  {
   "cell_type": "markdown",
   "metadata": {},
   "source": [
    "2. Utilizando as bases de treinamento e testes disponivel no link: https://www.kaggle.com/c/houseprices-advanced-regression-techniques/data, apresente duas solucoes de aprendizagem de\n",
    "maquina que consigam baixas taxas de erro medio (prove que esse e o menor valor que voce\n",
    "pôde encontrar).\n",
    "Dica:\n",
    "\n",
    "• Teste com dois algoritmos de aprendizagem de maquina para identificar os que\n",
    "apresentam melhores resultados; "
   ]
  },
  {
   "cell_type": "code",
   "execution_count": null,
   "metadata": {},
   "outputs": [],
   "source": []
  }
 ],
 "metadata": {
  "kernelspec": {
   "display_name": "Python 3",
   "language": "python",
   "name": "python3"
  },
  "language_info": {
   "codemirror_mode": {
    "name": "ipython",
    "version": 3
   },
   "file_extension": ".py",
   "mimetype": "text/x-python",
   "name": "python",
   "nbconvert_exporter": "python",
   "pygments_lexer": "ipython3",
   "version": "3.7.3"
  }
 },
 "nbformat": 4,
 "nbformat_minor": 2
}
